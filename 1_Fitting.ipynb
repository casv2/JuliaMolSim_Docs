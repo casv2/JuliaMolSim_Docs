{
 "cells": [
  {
   "cell_type": "markdown",
   "metadata": {},
   "source": [
    "# Fitting a PoSH potential"
   ]
  },
  {
   "cell_type": "markdown",
   "metadata": {},
   "source": [
    "### Loading the required modules"
   ]
  },
  {
   "cell_type": "code",
   "execution_count": 1,
   "metadata": {},
   "outputs": [
    {
     "name": "stderr",
     "output_type": "stream",
     "text": [
      "┌ Info: Precompiling IPFitting [3002bd4c-79e4-52ce-b924-91256dde4e52]\n",
      "└ @ Base loading.jl:1186\n",
      "┌ Info: Precompiling ASE [51974c44-a7ed-5088-b8be-3e78c8ba416c]\n",
      "└ @ Base loading.jl:1186\n"
     ]
    }
   ],
   "source": [
    "using IPFitting, PoSH, JuLIP, LinearAlgebra, HDF5"
   ]
  },
  {
   "cell_type": "markdown",
   "metadata": {},
   "source": [
    "### Reading in the configurations (Si)"
   ]
  },
  {
   "cell_type": "code",
   "execution_count": 2,
   "metadata": {},
   "outputs": [
    {
     "name": "stdout",
     "output_type": "stream",
     "text": [
      "Reading in Si.xyz ...\n",
      "Processing data ...\n"
     ]
    },
    {
     "name": "stderr",
     "output_type": "stream",
     "text": [
      "\u001b[32mProgress: 100%|█████████████████████████████████████████| Time: 0:00:05\u001b[39m\n"
     ]
    }
   ],
   "source": [
    "cfgs = IPFitting.Data.read_xyz(\"Si.xyz\")[1:50:end];"
   ]
  },
  {
   "cell_type": "markdown",
   "metadata": {},
   "source": [
    "### Configuration types in the training database"
   ]
  },
  {
   "cell_type": "code",
   "execution_count": 3,
   "metadata": {},
   "outputs": [
    {
     "name": "stdout",
     "output_type": "stream",
     "text": [
      "unique(configtype.(cfgs)) = [\"isolated_atom\", \"sh\", \"dia\", \"bt\", \"liq\", \"amorph\", \"surface_001\", \"surface_111\", \"surface_111_pandey\", \"crack_110_1-10\", \"sp\", \"sp2\", \"interstitial\", \"divacancy\", \"vacancy\", \"decohesion\", \"bc8\", \"bcc\", \"fcc\", \"hcp\", \"hex_diamond\", \"st12\"]\n"
     ]
    }
   ],
   "source": [
    "@show unique(configtype.(cfgs));"
   ]
  },
  {
   "cell_type": "markdown",
   "metadata": {},
   "source": [
    "### Filtering out a specific configuration type (isolated_atom)"
   ]
  },
  {
   "cell_type": "code",
   "execution_count": 4,
   "metadata": {},
   "outputs": [],
   "source": [
    "cfgs = cfgs[ findall(configtype.(cfgs) .!= \"isolated_atom\") ];"
   ]
  },
  {
   "cell_type": "markdown",
   "metadata": {},
   "source": [
    "## Create the PoSH Basis\n",
    "\n",
    "- Set the inner/outer cutoff (rcut_in, rcut_out)\n",
    "- Set the cutoff function and space transform\n",
    "\n",
    "Here `N` is the number of interaction neighbours, `polydeg` the maximum degree of polynomial fit, `wL` the weight on the angular part (lower increases accuracy at the expense of cost) and `chc` the sparsification."
   ]
  },
  {
   "cell_type": "code",
   "execution_count": 5,
   "metadata": {},
   "outputs": [],
   "source": [
    "r0 = rnn(:Si)\n",
    "rcut_in = 0.68*r0\n",
    "rcut_out = 5.2       \n",
    "\n",
    "trans = PoSH.PolyTransform(2, r0)\n",
    "cutf = PoSH.PolyCutoff1s(2, 0.0, rcut_out)\n",
    "\n",
    "N = 4\n",
    "polydeg = 12\n",
    "wL = 1.4\n",
    "chc = 0.1\n",
    "\n",
    "shipbasis = SHIPBasis(SparseSHIP(:Si, N, polydeg; wL = wL, chc = chc), trans, cutf);"
   ]
  },
  {
   "cell_type": "markdown",
   "metadata": {},
   "source": [
    "### Numer of basis functions"
   ]
  },
  {
   "cell_type": "code",
   "execution_count": 6,
   "metadata": {},
   "outputs": [
    {
     "data": {
      "text/plain": [
       "761"
      ]
     },
     "execution_count": 6,
     "metadata": {},
     "output_type": "execute_result"
    }
   ],
   "source": [
    "length(shipbasis)"
   ]
  },
  {
   "cell_type": "markdown",
   "metadata": {},
   "source": [
    "## Assemble the LsqDB\n",
    "\n",
    "This will assemble the least squares matrix and save as a database with two files `_info.json` and `_kron.h5` which contain the data"
   ]
  },
  {
   "cell_type": "code",
   "execution_count": 7,
   "metadata": {},
   "outputs": [
    {
     "name": "stdout",
     "output_type": "stream",
     "text": [
      "Assemble LSQ blocks in serial\n"
     ]
    },
    {
     "name": "stderr",
     "output_type": "stream",
     "text": [
      "\u001b[32mProgress: 100%|█████████████████████████████████████████| Time: 0:00:58\u001b[39mm\n",
      "┌ Info: Elapsed: 58.7s\n",
      "└ @ IPFitting.Tools /Users/Cas/.julia/packages/IPFitting/4xRUd/src/tools.jl:68\n",
      "┌ Info: Writing db to disk...\n",
      "└ @ IPFitting.DB /Users/Cas/.julia/packages/IPFitting/4xRUd/src/lsq_db.jl:194\n",
      "┌ Warning: The file Si_info.json already exists. It will be renamed to Si_info.json.wigmo to avoid overwriting.\n",
      "└ @ IPFitting.DB /Users/Cas/.julia/packages/IPFitting/4xRUd/src/lsq_db.jl:82\n",
      "┌ Warning: The file Si_kron.h5 already exists. It will be renamed to Si_kron.h5.diwnr to avoid overwriting.\n",
      "└ @ IPFitting.DB /Users/Cas/.julia/packages/IPFitting/4xRUd/src/lsq_db.jl:82\n",
      "┌ Info: ... done\n",
      "└ @ IPFitting.DB /Users/Cas/.julia/packages/IPFitting/4xRUd/src/lsq_db.jl:201\n"
     ]
    }
   ],
   "source": [
    "dB = LsqDB(\"Si\", shipbasis, cfgs);"
   ]
  },
  {
   "cell_type": "markdown",
   "metadata": {},
   "source": [
    "## Fitting the PoSH\n",
    "\n",
    "Fitting the PoSH potential requires the basis `shipbasis` and the least squares database `dB`. `lsqfit` will perform this but requires us to specify the isolated atom energy `E0` and the weights per configuration type. \n",
    "\n",
    "The `default` weight setting is the default weight for a configuration type, specifying the weights for a specific basis will overwrite this default setting."
   ]
  },
  {
   "cell_type": "code",
   "execution_count": 8,
   "metadata": {},
   "outputs": [
    {
     "data": {
      "text/plain": [
       "Dict{String,Dict{String,Float64}} with 4 entries:\n",
       "  \"amorph\"  => Dict(\"V\"=>0.25,\"E\"=>10.0,\"F\"=>0.5)\n",
       "  \"default\" => Dict(\"V\"=>2.0,\"E\"=>100.0,\"F\"=>1.0)\n",
       "  \"liq\"     => Dict(\"V\"=>0.5,\"E\"=>33.0,\"F\"=>0.66)\n",
       "  \"sp\"      => Dict(\"V\"=>0.25,\"E\"=>10.0,\"F\"=>0.5)"
      ]
     },
     "execution_count": 8,
     "metadata": {},
     "output_type": "execute_result"
    }
   ],
   "source": [
    "E0 = -158.54496821\n",
    "\n",
    "weights = Dict(\n",
    "        \"default\" => Dict(\"E\" => 100.0, \"F\" => 1.0 , \"V\" => 2.0 ),\n",
    "            \"liq\" => Dict(\"E\" =>  33.0, \"F\" => 0.66, \"V\" => 0.5 ),\n",
    "         \"amorph\" => Dict(\"E\" =>  10.0, \"F\" => 0.5 , \"V\" => 0.25),\n",
    "             \"sp\" => Dict(\"E\" =>  10.0, \"F\" => 0.5 , \"V\" => 0.25)\n",
    "   )"
   ]
  },
  {
   "cell_type": "markdown",
   "metadata": {},
   "source": [
    "### Saving the QR decomposition for regularisation\n",
    "\n",
    "Performing the fit using a QR fit. The targets `y`, upper triangular matrix `R` and orthogonal matrix `Q` are saved in `_qr.h5`. This is only required for regularisation in the next notebook. "
   ]
  },
  {
   "cell_type": "code",
   "execution_count": 9,
   "metadata": {},
   "outputs": [
    {
     "name": "stderr",
     "output_type": "stream",
     "text": [
      "┌ Info: assemble lsq system\n",
      "└ @ IPFitting.Lsq /Users/Cas/.julia/packages/IPFitting/4xRUd/src/lsq.jl:305\n",
      "┌ Info: Free Memory: ≈ 0.09 GB\n",
      "└ @ IPFitting.Lsq /Users/Cas/.julia/packages/IPFitting/4xRUd/src/lsq.jl:249\n",
      "┌ Info: Free Memory: ≈ 0.04 GB\n",
      "└ @ IPFitting.Lsq /Users/Cas/.julia/packages/IPFitting/4xRUd/src/lsq.jl:249\n",
      "┌ Info: Free Memory: ≈ 0.05 GB\n",
      "└ @ IPFitting.Lsq /Users/Cas/.julia/packages/IPFitting/4xRUd/src/lsq.jl:249\n",
      "┌ Info: solve (10480, 761) LSQ system using QR factorisation\n",
      "└ @ IPFitting.Lsq /Users/Cas/.julia/packages/IPFitting/4xRUd/src/lsq.jl:322\n",
      "┌ Info: cond(R) = 6.657139110726477e36\n",
      "└ @ IPFitting.Lsq /Users/Cas/.julia/packages/IPFitting/4xRUd/src/lsq.jl:326\n",
      "┌ Info: Free Memory: ≈ 0.04 GB\n",
      "└ @ IPFitting.Lsq /Users/Cas/.julia/packages/IPFitting/4xRUd/src/lsq.jl:249\n",
      "┌ Info: Relative RMSE on training set: 0.0019349670763230576\n",
      "└ @ IPFitting.Lsq /Users/Cas/.julia/packages/IPFitting/4xRUd/src/lsq.jl:362\n",
      "┌ Info: Assemble Information about the fit\n",
      "└ @ IPFitting.Lsq /Users/Cas/.julia/packages/IPFitting/4xRUd/src/lsq.jl:406\n"
     ]
    },
    {
     "name": "stdout",
     "output_type": "stream",
     "text": [
      "\u001b[32m\u001b[1m    Status\u001b[22m\u001b[39m `~/.julia/environments/v1.1/Project.toml`\n",
      " \u001b[90m [3002bd4c]\u001b[39m\u001b[37m IPFitting v0.3.2\u001b[39m\n",
      "  "
     ]
    },
    {
     "name": "stderr",
     "output_type": "stream",
     "text": [
      "┌ Info: Free Memory: ≈ 0.04 GB\n",
      "└ @ IPFitting.Lsq /Users/Cas/.julia/packages/IPFitting/4xRUd/src/lsq.jl:249\n"
     ]
    },
    {
     "name": "stdout",
     "output_type": "stream",
     "text": [
      "0.090758 seconds (200.43 k allocations: 9.907 MiB)\n"
     ]
    },
    {
     "data": {
      "text/plain": [
       "8.2091789840716"
      ]
     },
     "execution_count": 9,
     "metadata": {},
     "output_type": "execute_result"
    }
   ],
   "source": [
    "saveqr = Dict()\n",
    "GC.gc()\n",
    "shipIP, lsqinfo = lsqfit(  dB; E0 = E0,\n",
    "                                weights = weights,\n",
    "                                 solver = (:qr, ),\n",
    "                                 #deldb = true,    # this is to save some memory\n",
    "                                 #asmerrs = false, # but we then cannot asm errors\n",
    "                                 saveqr = saveqr)\n",
    "\n",
    "\n",
    "\n",
    "lsqsys = nothing\n",
    "IPFitting.Lsq._show_free_mem()\n",
    "\n",
    "R = saveqr[\"R\"]\n",
    "Nb = size(R, 1)\n",
    "Y = saveqr[\"Y\"]\n",
    "@time y = (Y' * saveqr[\"Q\"])[1:Nb]\n",
    "_rmse = norm(Y - saveqr[\"Q\"] * y)\n",
    "h5open(\"Si_qr.h5\",\"w\") do h5\n",
    "    h5[\"R\"] = R\n",
    "    h5[\"y\"] = y\n",
    "    h5[\"rmse\"] = _rmse\n",
    "end"
   ]
  },
  {
   "cell_type": "markdown",
   "metadata": {},
   "source": [
    "### Calculating the errors\n",
    "\n",
    "We can add the errors using the `add_fits!` command. Using the `rmse_table` the errors are printed in table"
   ]
  },
  {
   "cell_type": "code",
   "execution_count": 10,
   "metadata": {},
   "outputs": [
    {
     "name": "stdout",
     "output_type": "stream",
     "text": [
      "Add Fit info to configs in serial\n"
     ]
    },
    {
     "name": "stderr",
     "output_type": "stream",
     "text": [
      "\u001b[32mProgress: 100%|█████████████████████████████████████████| Time: 0:00:02\u001b[39m\n",
      "┌ Info: Elapsed: 2.3s\n",
      "└ @ IPFitting.Tools /Users/Cas/.julia/packages/IPFitting/4xRUd/src/tools.jl:68\n"
     ]
    },
    {
     "name": "stdout",
     "output_type": "stream",
     "text": [
      "┏━━━━━━━━━━━━━━━━━━━━━━━━━━━━━━━━━━━━━━━━━━━━━━━━━━━━━━━━━━━━━━━━━━━━┓\n",
      "┃ \u001b[0m\u001b[1mRMSE\u001b[22m                                                               ┃\n",
      "┣━━━━━━━━━━━━━━┳━━━━━━━━━━━━━━━━━┯━━━━━━━━━━━━━━━━━┯━━━━━━━━━━━━━━━━━┫\n",
      "┃ config type  ┃     E [meV]     │     F [eV/A]    │     V [meV]     ┃\n",
      "┠──────────────╂────────┬────────┼────────┬────────┼────────┬────────┨\n",
      "┃           sh ┃  10.77 ┊ 0.007% │  0.062 ┊ 18.17% │  160.7 ┊ 17.61% ┃\n",
      "┃      vacancy ┃   5.13 ┊ 0.003% │  0.068 ┊  8.87% │   25.5 ┊ 14.72% ┃\n",
      "┃          sp2 ┃   1.96 ┊ 0.001% │  0.104 ┊ 16.18% │    NaN ┊   NaN% ┃\n",
      "┃          fcc ┃  20.15 ┊ 0.012% │  0.081 ┊ 39.09% │   51.3 ┊ 25.36% ┃\n",
      "┃           bt ┃  21.04 ┊ 0.013% │  0.042 ┊ 15.51% │   60.2 ┊  4.52% ┃\n",
      "┃ crack.._1-10 ┃  21.47 ┊ 0.013% │  0.123 ┊ 21.47% │   34.8 ┊ 11.52% ┃\n",
      "┃          dia ┃  10.18 ┊ 0.006% │  0.037 ┊ 10.24% │   25.5 ┊  1.93% ┃\n",
      "┃    divacancy ┃   3.65 ┊ 0.002% │  0.090 ┊  9.10% │    NaN ┊   NaN% ┃\n",
      "┃ interstitial ┃   6.49 ┊ 0.004% │  0.077 ┊  8.47% │    8.3 ┊  9.30% ┃\n",
      "┃          hcp ┃  23.14 ┊ 0.014% │  0.081 ┊ 61.30% │  115.5 ┊ 64.50% ┃\n",
      "┃         st12 ┃   9.41 ┊ 0.006% │  0.177 ┊ 10.14% │   75.6 ┊ 10.43% ┃\n",
      "┃       amorph ┃   8.79 ┊ 0.005% │  0.146 ┊ 36.65% │    NaN ┊   NaN% ┃\n",
      "┃   decohesion ┃   3.27 ┊ 0.002% │  0.136 ┊  9.29% │   27.7 ┊ 16.92% ┃\n",
      "┃           sp ┃ 298.79 ┊ 0.187% │  4.201 ┊ 50.85% │    NaN ┊   NaN% ┃\n",
      "┃          liq ┃  14.95 ┊ 0.009% │  0.194 ┊ 20.66% │   25.2 ┊ 27.92% ┃\n",
      "┃  surface_001 ┃  11.58 ┊ 0.007% │  0.125 ┊ 18.15% │    NaN ┊   NaN% ┃\n",
      "┃          bc8 ┃  28.01 ┊ 0.017% │  0.361 ┊ 15.46% │  161.5 ┊ 24.21% ┃\n",
      "┃  surface_111 ┃   3.95 ┊ 0.002% │  0.170 ┊ 16.52% │    NaN ┊   NaN% ┃\n",
      "┃  hex_diamond ┃   5.48 ┊ 0.003% │  0.080 ┊  7.39% │   64.2 ┊  9.82% ┃\n",
      "┃ surfa..andey ┃  12.91 ┊ 0.008% │  0.150 ┊ 18.44% │   27.0 ┊ 19.51% ┃\n",
      "┃          bcc ┃  46.25 ┊ 0.028% │  0.056 ┊ 98.46% │  137.5 ┊ 69.68% ┃\n",
      "┠──────────────╂────────┼────────┼────────┼────────┼────────┼────────┨\n",
      "┃          set ┃  62.18 ┊ 0.038% │  0.228 ┊ 27.55% │   76.0 ┊  7.56% ┃\n",
      "┗━━━━━━━━━━━━━━┻━━━━━━━━┷━━━━━━━━┷━━━━━━━━┷━━━━━━━━┷━━━━━━━━┷━━━━━━━━┛\n"
     ]
    }
   ],
   "source": [
    "add_fits!(shipIP, cfgs; fitkey=\"fit\") #use add_fits! also crashse!!\n",
    "rmse_test, rmserel_test = rmse(cfgs; fitkey=\"fit\")\n",
    "lsqinfo[\"errors\"] = Dict(\"rmse\" => rmse_test, \"relrmse\" => rmserel_test)\n",
    "\n",
    "rmse_table(lsqinfo[\"errors\"])"
   ]
  },
  {
   "cell_type": "markdown",
   "metadata": {},
   "source": [
    "Saving the unregularised PoSH potential"
   ]
  },
  {
   "cell_type": "code",
   "execution_count": 11,
   "metadata": {},
   "outputs": [],
   "source": [
    "save_json(\"PoSH_Si_fit_unreg.json\", Dict(\"IP\" => Dict(shipIP), \"info\" => lsqinfo))"
   ]
  },
  {
   "cell_type": "code",
   "execution_count": null,
   "metadata": {},
   "outputs": [],
   "source": []
  }
 ],
 "metadata": {
  "@webio": {
   "lastCommId": null,
   "lastKernelId": null
  },
  "kernelspec": {
   "display_name": "Julia 1.1.0",
   "language": "julia",
   "name": "julia-1.1"
  },
  "language_info": {
   "file_extension": ".jl",
   "mimetype": "application/julia",
   "name": "julia",
   "version": "1.1.0"
  }
 },
 "nbformat": 4,
 "nbformat_minor": 2
}
