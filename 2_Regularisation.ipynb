{
 "cells": [
  {
   "cell_type": "code",
   "execution_count": 3,
   "metadata": {},
   "outputs": [
    {
     "name": "stderr",
     "output_type": "stream",
     "text": [
      "┌ Info: Precompiling IPFitting [3002bd4c-79e4-52ce-b924-91256dde4e52]\n",
      "└ @ Base loading.jl:1186\n",
      "┌ Info: Precompiling ASE [51974c44-a7ed-5088-b8be-3e78c8ba416c]\n",
      "└ @ Base loading.jl:1186\n"
     ]
    },
    {
     "data": {
      "text/plain": [
       "reglsq (generic function with 1 method)"
      ]
     },
     "execution_count": 3,
     "metadata": {},
     "output_type": "execute_result"
    }
   ],
   "source": [
    "using JuLIP, PoSH, IPFitting, HDF5, LinearAlgebra\n",
    "using JuLIP.MLIPs: IPSuperBasis\n",
    "using JSON\n",
    "using PolyPairPots\n",
    "include(\"./reglsq.jl\")"
   ]
  },
  {
   "cell_type": "markdown",
   "metadata": {},
   "source": [
    "### Reading in the unregularised potential"
   ]
  },
  {
   "cell_type": "code",
   "execution_count": 11,
   "metadata": {},
   "outputs": [
    {
     "data": {
      "text/plain": [
       "Dict{String,Any} with 11 entries:\n",
       "  \"c\"                 => Any[7.95992e13, -8.83438e13, 7.63694e13, -5.16525e13, …\n",
       "  \"dbpath\"            => \"Si\"\n",
       "  \"Ibasis\"            => Any[1, 2, 3, 4, 5, 6, 7, 8, 9, 10  …  752, 753, 754, 7…\n",
       "  \"weights\"           => Dict{String,Any}(\"amorph\"=>Dict{String,Any}(\"V\"=>0.25,…\n",
       "  \"kappa\"             => 6.65714e36\n",
       "  \"solver\"            => \"qr\"\n",
       "  \"juliaversion\"      => \"Julia Version 1.1.0\\nCommit 80516ca202 (2019-01-21 21…\n",
       "  \"regularisers\"      => Any[]\n",
       "  \"IPFitting_version\" => Dict{String,Any}(\"name\"=>\"IPFitting\",\"uuid\"=>\"3002bd4c…\n",
       "  \"E0\"                => -158.545\n",
       "  \"errors\"            => Dict{String,Any}(\"relrmse\"=>Dict{String,Any}(\"sh\"=>Dic…"
      ]
     },
     "execution_count": 11,
     "metadata": {},
     "output_type": "execute_result"
    }
   ],
   "source": [
    "D = load_json(\"PoSH_Si_fit_unreg.json\")\n",
    "lsqinfo = D[\"info\"]"
   ]
  },
  {
   "cell_type": "markdown",
   "metadata": {},
   "source": [
    "### Reading in the configurations"
   ]
  },
  {
   "cell_type": "code",
   "execution_count": 12,
   "metadata": {},
   "outputs": [
    {
     "name": "stdout",
     "output_type": "stream",
     "text": [
      "Reading in Si.xyz ...\n",
      "Processing data ...\n"
     ]
    },
    {
     "name": "stderr",
     "output_type": "stream",
     "text": [
      "\u001b[32mProgress: 100%|█████████████████████████████████████████| Time: 0:00:02\u001b[39m\n"
     ]
    }
   ],
   "source": [
    "cfgs = IPFitting.Data.read_xyz(\"Si.xyz\")[1:50:end];"
   ]
  },
  {
   "cell_type": "markdown",
   "metadata": {},
   "source": [
    "### Setting up the basis (identical to the fit for the unregularised potentail)"
   ]
  },
  {
   "cell_type": "code",
   "execution_count": 13,
   "metadata": {},
   "outputs": [],
   "source": [
    "r0 = rnn(:Si)\n",
    "rcut_in = 0.68*r0\n",
    "rcut_out = 5.2       \n",
    "\n",
    "trans = PoSH.PolyTransform(2, r0)\n",
    "cutf = PoSH.PolyCutoff1s(2, 0.0, rcut_out)\n",
    "\n",
    "N = 4\n",
    "polydeg = 12\n",
    "wL = 1.4\n",
    "chc = 0.1\n",
    "\n",
    "shipbasis = SHIPBasis(SparseSHIP(:Si, N, polydeg; wL = wL, chc = chc), trans, cutf);"
   ]
  },
  {
   "cell_type": "markdown",
   "metadata": {},
   "source": [
    "### Performing the regularisation\n",
    "\n",
    "`τ` is a target expected error and generally 1.1/1.2/1.3 the rmse error of the unregularised potential. The regularisation will in this sense sacrifice 10%/20%/30% RMSE accuracy at the expense of regularisation"
   ]
  },
  {
   "cell_type": "code",
   "execution_count": 14,
   "metadata": {},
   "outputs": [
    {
     "name": "stderr",
     "output_type": "stream",
     "text": [
      "┌ Info: `reglsq` : solve regularised least squares\n",
      "└ @ Main /Users/Cas/gits/JuliaMolSim_Docs/reglsq.jl:17\n",
      "┌ Info: found bracket, starting bisection\n",
      "└ @ Main /Users/Cas/gits/JuliaMolSim_Docs/reglsq.jl:40\n"
     ]
    },
    {
     "name": "stdout",
     "output_type": "stream",
     "text": [
      "norm(c) = 718009.1467196249\n"
     ]
    },
    {
     "name": "stderr",
     "output_type": "stream",
     "text": [
      "┌ Error: bracket has become too small; returning current solutions,\n",
      "│ if it is unsatisfactory, then please reduce the\n",
      "│ `abstol` parameter.\n",
      "└ @ Main /Users/Cas/gits/JuliaMolSim_Docs/reglsq.jl:55\n"
     ]
    }
   ],
   "source": [
    "# Load the QR factorisation again\n",
    "fid = h5open(\"Si_qr.h5\",\"r\")\n",
    "R = read(fid, \"R\")\n",
    "y = read(fid, \"y\")\n",
    "η0  = read(fid, \"rmse\")\n",
    "close(fid)\n",
    "\n",
    "τ = 1.50 * η0\n",
    "Γ = Matrix(1.0*I, length(shipbasis), length(shipbasis))\n",
    "\n",
    "\n",
    "c = reglsq(Γ = Γ, R = R, z=y, τ = τ, η0 = η0, )\n",
    "@show norm(c)\n",
    "\n",
    "using JuLIP.MLIPs: combine, SumIP\n",
    "\n",
    "E0 = -158.54496821\n",
    "\n",
    "Vref = MOneBody(Dict(:Si => E0))\n",
    "\n",
    "shipIP = SumIP(Vref, combine(shipbasis, c));"
   ]
  },
  {
   "cell_type": "markdown",
   "metadata": {},
   "source": [
    "### Unregularised table of errors"
   ]
  },
  {
   "cell_type": "code",
   "execution_count": 18,
   "metadata": {},
   "outputs": [
    {
     "name": "stdout",
     "output_type": "stream",
     "text": [
      "┏━━━━━━━━━━━━━━━━━━━━━━━━━━━━━━━━━━━━━━━━━━━━━━━━━━━━━━━━━━━━━━━━━━━━┓\n",
      "┃ \u001b[0m\u001b[1mRMSE\u001b[22m                                                               ┃\n",
      "┣━━━━━━━━━━━━━━┳━━━━━━━━━━━━━━━━━┯━━━━━━━━━━━━━━━━━┯━━━━━━━━━━━━━━━━━┫\n",
      "┃ config type  ┃     E [meV]     │     F [eV/A]    │     V [meV]     ┃\n",
      "┠──────────────╂────────┬────────┼────────┬────────┼────────┬────────┨\n",
      "┃           sh ┃  38.48 ┊ 0.024% │  0.121 ┊ 35.53% │  171.1 ┊ 18.75% ┃\n",
      "┃      vacancy ┃   4.33 ┊ 0.003% │  0.155 ┊ 20.31% │   69.8 ┊ 40.36% ┃\n",
      "┃          sp2 ┃   1.08 ┊ 0.001% │  1.280 ┊ 199.34% │    NaN ┊   NaN% ┃\n",
      "┃          fcc ┃  12.77 ┊ 0.008% │  0.271 ┊ 130.91% │  307.5 ┊ 151.95% ┃\n",
      "┃           bt ┃   2.74 ┊ 0.002% │  0.124 ┊ 45.83% │  112.2 ┊  8.43% ┃\n",
      "┃ crack.._1-10 ┃   3.35 ┊ 0.002% │  0.310 ┊ 54.22% │   85.5 ┊ 28.27% ┃\n",
      "┃ isola.._atom ┃   0.00 ┊ 0.000% │  0.000 ┊   NaN% │    NaN ┊   NaN% ┃\n",
      "┃          dia ┃   4.62 ┊ 0.003% │  0.090 ┊ 24.86% │   37.3 ┊  2.83% ┃\n",
      "┃    divacancy ┃   1.65 ┊ 0.001% │  0.181 ┊ 18.21% │    NaN ┊   NaN% ┃\n",
      "┃ interstitial ┃   1.84 ┊ 0.001% │  0.161 ┊ 17.76% │   23.1 ┊ 25.95% ┃\n",
      "┃          hcp ┃   6.56 ┊ 0.004% │  0.180 ┊ 136.54% │  189.7 ┊ 105.91% ┃\n",
      "┃         st12 ┃   5.04 ┊ 0.003% │  0.748 ┊ 42.94% │  496.3 ┊ 68.49% ┃\n",
      "┃       amorph ┃  25.74 ┊ 0.016% │  0.267 ┊ 66.93% │    NaN ┊   NaN% ┃\n",
      "┃   decohesion ┃   2.36 ┊ 0.001% │  0.207 ┊ 14.13% │   41.8 ┊ 25.52% ┃\n",
      "┃           sp ┃  66.37 ┊ 0.042% │  1.727 ┊ 20.90% │    NaN ┊   NaN% ┃\n",
      "┃          liq ┃   1.56 ┊ 0.001% │  0.589 ┊ 62.67% │   56.5 ┊ 62.53% ┃\n",
      "┃  surface_001 ┃   3.20 ┊ 0.002% │  0.319 ┊ 46.29% │    NaN ┊   NaN% ┃\n",
      "┃          bc8 ┃   7.48 ┊ 0.005% │  0.473 ┊ 20.28% │  264.2 ┊ 39.62% ┃\n",
      "┃  surface_111 ┃   0.57 ┊ 0.000% │  0.438 ┊ 42.48% │    NaN ┊   NaN% ┃\n",
      "┃  hex_diamond ┃   9.15 ┊ 0.006% │  0.076 ┊  6.99% │   56.2 ┊  8.60% ┃\n",
      "┃ surfa..andey ┃   0.73 ┊ 0.000% │  0.425 ┊ 52.23% │   67.0 ┊ 48.45% ┃\n",
      "┃          bcc ┃   1.31 ┊ 0.001% │  0.019 ┊ 33.51% │   99.3 ┊ 50.34% ┃\n",
      "┠──────────────╂────────┼────────┼────────┼────────┼────────┼────────┨\n",
      "┃          set ┃  18.71 ┊ 0.012% │  0.256 ┊ 30.94% │  139.6 ┊ 13.89% ┃\n",
      "┗━━━━━━━━━━━━━━┻━━━━━━━━┷━━━━━━━━┷━━━━━━━━┷━━━━━━━━┷━━━━━━━━┷━━━━━━━━┛\n"
     ]
    }
   ],
   "source": [
    "rmse_table(D[\"info\"][\"errors\"])"
   ]
  },
  {
   "cell_type": "markdown",
   "metadata": {},
   "source": [
    "### Calculating the errors for the regularised potential\n",
    "\n",
    "`τ` is a target expected error and generally 1.1/1.2/1.3 the rmse error of the unregularised potential. The regularisation will in this sense sacrifice 10%/20%/30% RMSE accuracy at the expense of regularisation"
   ]
  },
  {
   "cell_type": "code",
   "execution_count": 16,
   "metadata": {},
   "outputs": [
    {
     "name": "stdout",
     "output_type": "stream",
     "text": [
      "Add Fit info to configs in serial\n"
     ]
    },
    {
     "name": "stderr",
     "output_type": "stream",
     "text": [
      "\u001b[32mProgress: 100%|█████████████████████████████████████████| Time: 0:00:01\u001b[39m\n"
     ]
    },
    {
     "name": "stdout",
     "output_type": "stream",
     "text": [
      "┏━━━━━━━━━━━━━━━━━━━━━━━━━━━━━━━━━━━━━━━━━━━━━━━━━━━━━━━━━━━━━━━━━━━━┓\n",
      "┃ \u001b[0m\u001b[1mRMSE\u001b[22m                                                               ┃\n",
      "┣━━━━━━━━━━━━━━┳━━━━━━━━━━━━━━━━━┯━━━━━━━━━━━━━━━━━┯━━━━━━━━━━━━━━━━━┫\n",
      "┃ config type  ┃     E [meV]     │     F [eV/A]    │     V [meV]     ┃\n",
      "┠──────────────╂────────┬────────┼────────┬────────┼────────┬────────┨\n",
      "┃           sh ┃  38.48 ┊ 0.024% │  0.121 ┊ 35.53% │  171.1 ┊ 18.75% ┃\n",
      "┃      vacancy ┃   4.33 ┊ 0.003% │  0.155 ┊ 20.31% │   69.8 ┊ 40.36% ┃\n",
      "┃          sp2 ┃   1.08 ┊ 0.001% │  1.280 ┊ 199.34% │    NaN ┊   NaN% ┃\n",
      "┃          fcc ┃  12.77 ┊ 0.008% │  0.271 ┊ 130.91% │  307.5 ┊ 151.95% ┃\n",
      "┃           bt ┃   2.74 ┊ 0.002% │  0.124 ┊ 45.83% │  112.2 ┊  8.43% ┃\n",
      "┃ crack.._1-10 ┃   3.35 ┊ 0.002% │  0.310 ┊ 54.22% │   85.5 ┊ 28.27% ┃\n",
      "┃ isola.._atom ┃   0.00 ┊ 0.000% │  0.000 ┊   NaN% │    NaN ┊   NaN% ┃\n",
      "┃          dia ┃   4.62 ┊ 0.003% │  0.090 ┊ 24.86% │   37.3 ┊  2.83% ┃\n",
      "┃    divacancy ┃   1.65 ┊ 0.001% │  0.181 ┊ 18.21% │    NaN ┊   NaN% ┃\n",
      "┃ interstitial ┃   1.84 ┊ 0.001% │  0.161 ┊ 17.76% │   23.1 ┊ 25.95% ┃\n",
      "┃          hcp ┃   6.56 ┊ 0.004% │  0.180 ┊ 136.54% │  189.7 ┊ 105.91% ┃\n",
      "┃         st12 ┃   5.04 ┊ 0.003% │  0.748 ┊ 42.94% │  496.3 ┊ 68.49% ┃\n",
      "┃       amorph ┃  25.74 ┊ 0.016% │  0.267 ┊ 66.93% │    NaN ┊   NaN% ┃\n",
      "┃   decohesion ┃   2.36 ┊ 0.001% │  0.207 ┊ 14.13% │   41.8 ┊ 25.52% ┃\n",
      "┃           sp ┃  66.37 ┊ 0.042% │  1.727 ┊ 20.90% │    NaN ┊   NaN% ┃\n",
      "┃          liq ┃   1.56 ┊ 0.001% │  0.589 ┊ 62.67% │   56.5 ┊ 62.53% ┃\n",
      "┃  surface_001 ┃   3.20 ┊ 0.002% │  0.319 ┊ 46.29% │    NaN ┊   NaN% ┃\n",
      "┃          bc8 ┃   7.48 ┊ 0.005% │  0.473 ┊ 20.28% │  264.2 ┊ 39.62% ┃\n",
      "┃  surface_111 ┃   0.57 ┊ 0.000% │  0.438 ┊ 42.48% │    NaN ┊   NaN% ┃\n",
      "┃  hex_diamond ┃   9.15 ┊ 0.006% │  0.076 ┊  6.99% │   56.2 ┊  8.60% ┃\n",
      "┃ surfa..andey ┃   0.73 ┊ 0.000% │  0.425 ┊ 52.23% │   67.0 ┊ 48.45% ┃\n",
      "┃          bcc ┃   1.31 ┊ 0.001% │  0.019 ┊ 33.51% │   99.3 ┊ 50.34% ┃\n",
      "┠──────────────╂────────┼────────┼────────┼────────┼────────┼────────┨\n",
      "┃          set ┃  18.71 ┊ 0.012% │  0.256 ┊ 30.94% │  139.6 ┊ 13.89% ┃\n",
      "┗━━━━━━━━━━━━━━┻━━━━━━━━┷━━━━━━━━┷━━━━━━━━┷━━━━━━━━┷━━━━━━━━┷━━━━━━━━┛\n"
     ]
    },
    {
     "name": "stderr",
     "output_type": "stream",
     "text": [
      "┌ Info: Elapsed: 1.4s\n",
      "└ @ IPFitting.Tools /Users/Cas/.julia/packages/IPFitting/4xRUd/src/tools.jl:68\n"
     ]
    }
   ],
   "source": [
    "add_fits!(shipIP, cfgs; fitkey=\"fit\") #use add_fits! also crashse!!\n",
    "rmse_test, rmserel_test = rmse(cfgs; fitkey=\"fit\")\n",
    "lsqinfo[\"errors\"] = Dict(\"rmse\" => rmse_test, \"relrmse\" => rmserel_test)\n",
    "\n",
    "rmse_table(lsqinfo[\"errors\"])\n",
    "\n",
    "save_json(\"PoSH_Si_fit_reg.json\", Dict(\"IP\" => Dict(shipIP), \"info\" => lsqinfo))"
   ]
  },
  {
   "cell_type": "code",
   "execution_count": null,
   "metadata": {},
   "outputs": [],
   "source": []
  },
  {
   "cell_type": "code",
   "execution_count": null,
   "metadata": {},
   "outputs": [],
   "source": []
  }
 ],
 "metadata": {
  "kernelspec": {
   "display_name": "Julia 1.1.0",
   "language": "julia",
   "name": "julia-1.1"
  },
  "language_info": {
   "file_extension": ".jl",
   "mimetype": "application/julia",
   "name": "julia",
   "version": "1.1.0"
  }
 },
 "nbformat": 4,
 "nbformat_minor": 2
}
