{
 "cells": [
  {
   "cell_type": "markdown",
   "metadata": {},
   "source": [
    "## Using PoSH as a ASE calculator"
   ]
  },
  {
   "cell_type": "code",
   "execution_count": 1,
   "metadata": {},
   "outputs": [],
   "source": [
    "import pyjulip\n",
    "from ase.build import bulk"
   ]
  },
  {
   "cell_type": "code",
   "execution_count": 2,
   "metadata": {},
   "outputs": [],
   "source": [
    "at = bulk(\"Si\") * (2,2,2)"
   ]
  },
  {
   "cell_type": "code",
   "execution_count": 3,
   "metadata": {},
   "outputs": [],
   "source": [
    "calc = pyjulip.PoSH(\"./PoSH_Si_fit_reg.json\")"
   ]
  },
  {
   "cell_type": "code",
   "execution_count": 4,
   "metadata": {},
   "outputs": [],
   "source": [
    "at.rattle(0.01)"
   ]
  },
  {
   "cell_type": "code",
   "execution_count": 5,
   "metadata": {},
   "outputs": [],
   "source": [
    "at.set_calculator(calc)"
   ]
  },
  {
   "cell_type": "code",
   "execution_count": 6,
   "metadata": {},
   "outputs": [
    {
     "data": {
      "text/plain": [
       "array([[ 0.04337728, -0.0156815 , -0.09046089],\n",
       "       [-0.08111339,  0.1051725 , -0.04348509],\n",
       "       [-0.24598806, -0.00983025, -0.02519994],\n",
       "       [-0.03602894,  0.12017432,  0.23702164],\n",
       "       [-0.02125567,  0.23683203,  0.21903631],\n",
       "       [ 0.02454577, -0.20961995, -0.0865475 ],\n",
       "       [ 0.01150904,  0.11398304, -0.15618997],\n",
       "       [ 0.05574734, -0.09731469,  0.12900392],\n",
       "       [ 0.15005348, -0.03943744,  0.04045289],\n",
       "       [-0.03638859,  0.04430725, -0.02023231],\n",
       "       [ 0.09169711, -0.36299045, -0.05534572],\n",
       "       [ 0.20884061, -0.04717658,  0.09037424],\n",
       "       [-0.06830197,  0.20927786,  0.27987816],\n",
       "       [-0.00280301, -0.23979909, -0.32829617],\n",
       "       [-0.02900246,  0.11177807,  0.05470588],\n",
       "       [-0.06488853,  0.0803249 , -0.24471543]])"
      ]
     },
     "execution_count": 6,
     "metadata": {},
     "output_type": "execute_result"
    }
   ],
   "source": [
    "at.get_forces()"
   ]
  },
  {
   "cell_type": "code",
   "execution_count": 7,
   "metadata": {},
   "outputs": [
    {
     "data": {
      "text/plain": [
       "-2610.740593276394"
      ]
     },
     "execution_count": 7,
     "metadata": {},
     "output_type": "execute_result"
    }
   ],
   "source": [
    "at.get_potential_energy()"
   ]
  },
  {
   "cell_type": "code",
   "execution_count": null,
   "metadata": {},
   "outputs": [],
   "source": []
  },
  {
   "cell_type": "code",
   "execution_count": null,
   "metadata": {},
   "outputs": [],
   "source": []
  }
 ],
 "metadata": {
  "@webio": {
   "lastCommId": null,
   "lastKernelId": null
  },
  "kernelspec": {
   "display_name": "Python 2",
   "language": "python",
   "name": "python2"
  },
  "language_info": {
   "codemirror_mode": {
    "name": "ipython",
    "version": 2
   },
   "file_extension": ".py",
   "mimetype": "text/x-python",
   "name": "python",
   "nbconvert_exporter": "python",
   "pygments_lexer": "ipython2",
   "version": "2.7.16"
  }
 },
 "nbformat": 4,
 "nbformat_minor": 2
}
